{
 "cells": [
  {
   "cell_type": "code",
   "execution_count": null,
   "id": "622f42f9",
   "metadata": {},
   "outputs": [],
   "source": [
    "%matplotlib inline\n",
    "import numpy as np\n",
    "import matplotlib.pyplot as plt\n",
    "import skrf as rf"
   ]
  },
  {
   "cell_type": "code",
   "execution_count": null,
   "id": "2320167b",
   "metadata": {},
   "outputs": [],
   "source": [
    "# Plot a list of colors as patches\n",
    "import matplotlib.patches as mpatch\n",
    "fig = plt.figure()\n",
    "ax = fig.add_axes([0, 0, 1, 1])\n",
    "\n",
    "n_groups = 1\n",
    "n_rows = len(rf.plotting.colors()) + 1\n",
    "\n",
    "for y_pos, color_val in enumerate(rf.plotting.colors()):\n",
    "    ax.add_patch(mpatch.Rectangle((0, y_pos), 1, 1, color=color_val))\n",
    "    ax.text(0.5, y_pos + .7, color_val,\n",
    "            color='k', ha='center', fontsize=10)\n",
    "\n",
    "ax.hlines(range(n_rows), 0, 2.8, color='0.7', linewidth=1)\n",
    "ax.text(0.5, -0.3, 'scikit-rf colors', ha='center')\n",
    "\n",
    "ax.set_xlim(0, 1)\n",
    "ax.set_ylim(n_rows, -1)\n",
    "ax.axis('off')\n",
    "\n",
    "plt.show()"
   ]
  },
  {
   "cell_type": "code",
   "execution_count": null,
   "id": "e04f345d",
   "metadata": {},
   "outputs": [],
   "source": [
    "string_1 = \"abcdefghijklmnopqrstuvwxyz\"\n",
    "string_2 = \"nanny\"\n",
    "  \n",
    "# letters which are present in the two strings\n",
    "# but not in both are found using the ‘^’ operator\n",
    "e = list(set(string_1) ^ set(string_2))\n",
    "  \n",
    "# printing finale list\n",
    "print(\"The letters are:\")\n",
    "for i in e:\n",
    "    print(i,end='')"
   ]
  }
 ],
 "metadata": {
  "kernelspec": {
   "display_name": "Python 3 (ipykernel)",
   "language": "python",
   "name": "python3"
  },
  "language_info": {
   "codemirror_mode": {
    "name": "ipython",
    "version": 3
   },
   "file_extension": ".py",
   "mimetype": "text/x-python",
   "name": "python",
   "nbconvert_exporter": "python",
   "pygments_lexer": "ipython3",
   "version": "3.9.12"
  }
 },
 "nbformat": 4,
 "nbformat_minor": 5
}
