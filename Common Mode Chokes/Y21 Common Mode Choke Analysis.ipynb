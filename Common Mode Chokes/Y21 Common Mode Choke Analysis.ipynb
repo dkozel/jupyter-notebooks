{
 "cells": [
  {
   "cell_type": "code",
   "execution_count": null,
   "id": "3b7f8662",
   "metadata": {},
   "outputs": [],
   "source": [
    "%matplotlib inline\n",
    "import numpy as np\n",
    "import matplotlib.pyplot as plt\n",
    "import skrf as rf\n",
    "rf.stylely()\n",
    "skrf_color_names = ['blue','red','green','orange','purple','pink','grey']\n",
    "skrf_colors = dict(zip(skrf_color_names, rf.plotting.colors()))\n",
    "import math"
   ]
  },
  {
   "cell_type": "code",
   "execution_count": null,
   "id": "49274469",
   "metadata": {},
   "outputs": [],
   "source": [
    "# Load the RF Choke measurement\n",
    "rf_choke = rf.Network('220114 Thru S21 Measurement 12 turns FT240 Mix 31.s2p')\n",
    "#rf_choke = rf.Network('220224_8753C_6T_BLN43-202_SMA_Cal_run3.s2p')\n",
    "\n",
    "fig, axes = plt.subplots(nrows=2, ncols=1)\n",
    "\n",
    "# Plot the measured common mode attenuation\n",
    "rf_choke.s21.plot_s_db(ax=axes[0], label=\"S21\")\n",
    "axes[0].set_ylim([-40, -10])\n",
    "\n",
    "# Plot the impedence seen by port 1\n",
    "rf_choke.s11.plot_z_mag(ax=axes[1], label=\"Mag\")\n",
    "rf_choke.s11.plot_z_re(ax=axes[1], label=\"Real\")\n",
    "rf_choke.s11.plot_z_im(ax=axes[1], label=\"Imaginary\")\n",
    "axes[1].set_ylabel(\"Impedence\")\n",
    "axes[1].legend(loc=\"upper right\")\n",
    "\n",
    "fig.suptitle(rf_choke.name)\n",
    "fig.tight_layout()\n",
    "fig.align_ylabels()"
   ]
  },
  {
   "cell_type": "code",
   "execution_count": null,
   "id": "413302f4",
   "metadata": {},
   "outputs": [],
   "source": [
    "# Input impedence of the choke\n",
    "z_dut_s11 = rf_choke.s11.z[:,0,0]\n",
    "\n",
    "# G3TXQ S21 Method\n",
    "z_dut_s21 = 50 * (2/rf_choke.s[:,1,0] - 2)\n",
    "\n",
    "# W1QG Y21 Method\n",
    "z_dut_y21 = 1/-rf_choke.y[:,1,0]"
   ]
  },
  {
   "cell_type": "code",
   "execution_count": null,
   "id": "a87e6081",
   "metadata": {},
   "outputs": [],
   "source": [
    "# Plot Zdut from S11, S21, and Y21\n",
    "fig, axes = plt.subplots()\n",
    "axes.plot(rf_choke.f/1e6, np.real(z_dut_s11), label=\"Z Input S11\")\n",
    "axes.plot(rf_choke.f/1e6, np.real(z_dut_y21), label=\"Z Choke from Y21\")\n",
    "axes.plot(rf_choke.f/1e6, np.real(z_dut_s21), label=\"Z Choke from S21\")\n",
    "axes.set(xlabel='Frequency (MHz)',\n",
    "         ylabel='Impedence (Ohms)',\n",
    "         title='Common Mode Choke Impedance')\n",
    "axes.legend()\n",
    "plt.show()"
   ]
  },
  {
   "cell_type": "markdown",
   "id": "613fbca4",
   "metadata": {},
   "source": [
    "The impedence of a capacitor is $Z_c = \\frac{1}{j 2 \\pi f C}$\n",
    "\n",
    "So $C = \\frac{1}{j 2 \\pi f Z_c}$"
   ]
  },
  {
   "cell_type": "code",
   "execution_count": null,
   "id": "78aeea1f",
   "metadata": {},
   "outputs": [],
   "source": [
    "# Shunt Impedences\n",
    "z_shunt1 = 1/(rf_choke.y[:,0,0] + rf_choke.y[:,1,0])\n",
    "z_shunt2 = 1/(rf_choke.y[:,1,1] + rf_choke.y[:,0,1])\n",
    "\n",
    "# Shunt Capacitances\n",
    "c_shunt1 = np.real(1/(1j*2*math.pi*rf_choke.f*z_shunt1))*1e12\n",
    "c_shunt2 = np.real(1/(1j*2*math.pi*rf_choke.f*z_shunt2))*1e12\n",
    "\n",
    "# Calculate the average capacitance over a frequency range\n",
    "#idx_low  = np.argmax(rf_choke.f > (f_low := 1.8e6))\n",
    "#idx_high = np.argmax(rf_choke.f > (f_high := 29e6))\n",
    "#c_shunt1_avg = np.average(c_shunt1[idx_low:idx_high])\n",
    "#c_shunt2_avg = np.average(c_shunt2[idx_low:idx_high])\n",
    "\n",
    "# Calculate a representative capacitance\n",
    "# Average of all values within m sigma of the mean\n",
    "\n",
    "m = 2\n",
    "c_shunt1_avg = np.average(c_shunt1[abs(c_shunt1 - np.mean(c_shunt1)) < m * np.std(c_shunt1)])\n",
    "c_shunt2_avg = np.average(c_shunt2[abs(c_shunt2 - np.mean(c_shunt2)) < m * np.std(c_shunt2)])\n",
    "\n",
    "fig, ax = plt.subplots()\n",
    "ax.plot(rf_choke.f/1e6, c_shunt1, label=\"Input Shunt\")\n",
    "ax.plot(rf_choke.f/1e6, c_shunt2, label=\"Output Shunt\")\n",
    "#ax.hlines(y=c_shunt1_avg, xmin=1.8, xmax=30, colors=skrf_colors['blue'])\n",
    "#ax.hlines(y=c_shunt2_avg, xmin=1.8, xmax=30, color=skrf_colors['red'])\n",
    "\n",
    "# Show the range of values used to calculate the representative capacitance\n",
    "#ax.axhspan(c_shunt1_avg-m*np.std(c_shunt1), c_shunt1_avg+m*np.std(c_shunt1), 0, 30, alpha=0.2, color='k')\n",
    "ax.axvspan(1.8, 30, alpha=0.1, color='k')\n",
    "\n",
    "plt.annotate(f'Input Shunt {c_shunt1_avg:.3f} pF',\n",
    "             (ax.get_xlim()[1]*0.5, c_shunt1[int(len(c_shunt1)/2)]),\n",
    "             xytext=(30, 10), textcoords='offset points',\n",
    "             arrowprops=dict(\n",
    "                arrowstyle=\"->\",\n",
    "                color='black',\n",
    "                connectionstyle=\"arc,angleA=180,armA=50,rad=10\"))\n",
    "plt.annotate(f'Output Shunt {c_shunt2_avg:.3f} pF',\n",
    "             (ax.get_xlim()[1]*0.5, c_shunt2[int(len(c_shunt2)/2)]),\n",
    "             xytext=(30, -30), textcoords='offset points',\n",
    "             arrowprops=dict(\n",
    "                arrowstyle=\"->\",\n",
    "                color='black',\n",
    "                connectionstyle=\"arc,angleA=180,armA=50,rad=10\"))\n",
    "\n",
    "ax.set(xlabel='Frequency (MHz)',\n",
    "       ylabel='Capacitance (pF)',\n",
    "       title='Shunt Capacitance')\n",
    "ax.set_ylim([1,6])\n",
    "ax.legend()\n",
    "plt.show()"
   ]
  },
  {
   "cell_type": "code",
   "execution_count": null,
   "id": "980496d8",
   "metadata": {},
   "outputs": [],
   "source": [
    "%config InlineBackend.figure_format = 'svg'\n",
    "import schemdraw\n",
    "import schemdraw.elements as elm"
   ]
  },
  {
   "cell_type": "code",
   "execution_count": null,
   "id": "effaf8dd",
   "metadata": {},
   "outputs": [],
   "source": [
    "# Shunt Capacitance Model of the Choke\n",
    "with schemdraw.Drawing(font='serif') as d:\n",
    "    d += (src   := elm.SourceSin())#.label(('– ','','+'))\n",
    "    d += (src_r := elm.Resistor()).right().label('$50\\Omega$').length(2)\n",
    "    d += elm.Line().length(1)\n",
    "    d.push()\n",
    "    d += elm.ResistorIEC().down().label(\"$Z_{shunt1}$\", loc='bottom')\n",
    "    d.pop()\n",
    "    d += elm.ResistorIEC().right().label(\"$Z_{dut} = R_{dut} +jX_{dut}$\", loc=\"top\").label(\"DUT\", loc=\"bottom\").length(4)\n",
    "    d.push()\n",
    "    d += (load := elm.ResistorIEC()).down().label(\"$Z_{shunt2}$\")\n",
    "    d.pop()\n",
    "    d += elm.Line().right().length(2)\n",
    "    d += (load := elm.Resistor().down().label(\"$50\\Omega$\", loc=\"bottom\"))\n",
    "    d += elm.Line().left().tox(source.start)\n",
    "    d += elm.EncircleBox([src, src_r], pady=0.7, padx=0.3).linestyle('--').linewidth(2).color(skrf_colors['blue']).label(\"VNA Port 1\", loc='bottom')\n",
    "    d += elm.EncircleBox([load], pady=0.7, padx=1).linestyle('--').color(skrf_colors['red']).label('VNA Port 2', loc='bottom')\n"
   ]
  },
  {
   "cell_type": "code",
   "execution_count": null,
   "id": "48ac2d36",
   "metadata": {},
   "outputs": [],
   "source": [
    "# Two port Pi Network\n",
    "with schemdraw.Drawing(font='serif', backend='matplotlib') as d:\n",
    "    d += (port1 := elm.Gap()).up().label('Port 1', loc='top').dot().idot()\n",
    "    d += elm.Line().right().length(1)\n",
    "    d.push()\n",
    "    d += elm.ResistorIEC().down().label(\"Y1\", loc='bottom')\n",
    "    d.pop()\n",
    "    d += elm.ResistorIEC().right().label(\"Y3\", loc='bottom')\n",
    "    d.push()\n",
    "    d += (load := elm.ResistorIEC()).down().label(\"Y2\")\n",
    "    d.pop()\n",
    "    d += elm.Line().right().length(1)\n",
    "    d += elm.Gap().down().label('Port 2',loc='bottom').dot().idot()\n",
    "    d += elm.Line().left().tox(port1.start)\n",
    "    \n",
    "    "
   ]
  },
  {
   "cell_type": "code",
   "execution_count": null,
   "id": "4e453517",
   "metadata": {},
   "outputs": [],
   "source": []
  }
 ],
 "metadata": {
  "kernelspec": {
   "display_name": "Python 3 (ipykernel)",
   "language": "python",
   "name": "python3"
  },
  "language_info": {
   "codemirror_mode": {
    "name": "ipython",
    "version": 3
   },
   "file_extension": ".py",
   "mimetype": "text/x-python",
   "name": "python",
   "nbconvert_exporter": "python",
   "pygments_lexer": "ipython3",
   "version": "3.9.10"
  }
 },
 "nbformat": 4,
 "nbformat_minor": 5
}
