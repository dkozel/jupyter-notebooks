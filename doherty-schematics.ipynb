{
 "cells": [
  {
   "cell_type": "code",
   "execution_count": null,
   "metadata": {},
   "outputs": [],
   "source": [
    "import schemdraw\n",
    "\n",
    "with schemdraw.Drawing() as d:\n",
    "    d += (vin := elm.SourceSin())\n",
    "    d += elm.RBox().right().label('50Ω')\n",
    "    d += elm.Line().length(1)\n",
    "    d += elm.Dot().label('A')\n",
    "    d += elm.ZLabel(ofst=.4, length=.75).label('$Z_{A}$')\n",
    "    d += (r1 := elm.RBox().down().label('10KΩ').dot().hold())\n",
    "    d += elm.Line().right().length(2)\n",
    "    d += elm.RBox().down().label('5KΩ')\n",
    "    d += elm.Line().tox(vin.start)"
   ]
  }
 ],
 "metadata": {
  "language_info": {
   "name": "python"
  },
  "orig_nbformat": 4
 },
 "nbformat": 4,
 "nbformat_minor": 2
}
