{
 "cells": [
  {
   "cell_type": "code",
   "execution_count": null,
   "id": "1385c33e",
   "metadata": {},
   "outputs": [],
   "source": [
    "%matplotlib inline\n",
    "import numpy as np\n",
    "import matplotlib.pyplot as plt\n",
    "import skrf as rf\n",
    "#rf.stylely()\n",
    "skrf_color_names = ['blue','red','green','orange','purple','pink','grey']\n",
    "skrf_colors = dict(zip(skrf_color_names, rf.plotting.colors()))\n",
    "import math"
   ]
  },
  {
   "cell_type": "code",
   "execution_count": null,
   "id": "04f6ebc0",
   "metadata": {},
   "outputs": [],
   "source": [
    "def r_range(start, stop, num_steps):\n",
    "    r = np.linspace(1, num_steps, num_steps)\n",
    "    print(r)\n",
    "    k = np.log(start/stop)/(1-num_steps)\n",
    "    print(k)\n",
    "    print(stop)\n",
    "    a0 = stop*np.exp(-k*num_steps)\n",
    "    print(a0)\n",
    "    for i in range(num_steps):\n",
    "        r[i] = a0*np.exp(k*(i+1))\n",
    "        \n",
    "    return r\n",
    "\n",
    "z0 = 50\n",
    "r = r_range(1, 100, 5)\n",
    "r = np.linspace(0, 100, 5)\n",
    "x = np.linspace(-20, 20, 5)\n",
    "zr, zx = np.meshgrid(r,x)\n",
    "z = zr + 1j*zx\n",
    "\n",
    "print(np.array2string(r, precision=2, floatmode='fixed'))\n",
    "gamma = np.divide(z-z0, z+z0)\n",
    "#print(gamma)\n",
    "\n",
    "rf.plotting.plot_smith(gamma, marker='o')"
   ]
  },
  {
   "cell_type": "code",
   "execution_count": null,
   "id": "87df55a8",
   "metadata": {},
   "outputs": [],
   "source": [
    "#x = np.linspace(0,50,100)\n",
    "# For gamma in a + jb format\n",
    "z0 = 50\n",
    "gamma = 0.5 +1j*0.0\n",
    "z = z0* np.divide((1-gamma), 1.000001+gamma)\n",
    "print(f'Gamma {gamma:.02f} is {z:.02f} ohms given Z0={z0:.02f}')"
   ]
  },
  {
   "cell_type": "code",
   "execution_count": null,
   "id": "9cf3d8db",
   "metadata": {},
   "outputs": [],
   "source": [
    "import pwdatatools as pw\n",
    "ds = pw.file_read(r'C:\\Users\\derek\\Documents\\ADS\\2021u2\\workspaces\\CreeAsymmetricDoherty_wrk\\data\\Manual_LP_15W.ds')"
   ]
  },
  {
   "cell_type": "code",
   "execution_count": null,
   "id": "33c09e9f",
   "metadata": {},
   "outputs": [],
   "source": [
    "print(ds.blocks[0].ivarnames)\n",
    "print(ds.blocks[0].dvarnames)v\n",
    "print(ds.blocks[0].dependencies)"
   ]
  },
  {
   "cell_type": "code",
   "execution_count": null,
   "id": "f2e7d473",
   "metadata": {},
   "outputs": [],
   "source": [
    "block = ds.blocks[0]\n",
    "for ivarname in block.ivarnames:\n",
    "    print(f'{ivarname}')\n",
    "    print(block.what(f'{ivarname}'))\n",
    "    print('\\n')\n",
    "    \n",
    "print(block.datatypes)\n",
    "print(block.datanames)"
   ]
  },
  {
   "cell_type": "code",
   "execution_count": null,
   "id": "44e1558e",
   "metadata": {},
   "outputs": [],
   "source": [
    "data = block.variables[block.variables['freq'] == 3.600000e+09]\n",
    "data = data[data.columns.drop(list(data.filter(regex='bonding')))]\n",
    "rho_im = data.get('rho_im').to_numpy()\n",
    "rho_re = data.get('rho_re').to_numpy()"
   ]
  },
  {
   "cell_type": "code",
   "execution_count": null,
   "id": "bb5816ee",
   "metadata": {},
   "outputs": [],
   "source": [
    "plt.rcParams['figure.dpi'] = 300\n",
    "fig, axes = plt.subplots()\n",
    "rf.plotting.smith(ax=axes)\n",
    "\n",
    "lp_gamma_points = gamma\n",
    "#x = np.real(lp_gamma_points)\n",
    "#y = np.imag(lp_gamma_points)\n",
    "x = rho_re\n",
    "y = rho_im\n",
    "z = np.real(ds.blocks[13]['Pout_dBm'].to_numpy())\n",
    "\n",
    "#axes.plot(rho_re,rho_im, marker='.', color=skrf_colors['blue'], linestyle='None', markersize=1)\n",
    "graph = axes.scatter(x,y, c=z, s=1, marker='.', cmap='viridis', linestyle='None')\n",
    "fig.colorbar(graph)\n",
    "axes.axis(1*np.array([-1.1, 1.1, -1.1, 1.1]))"
   ]
  },
  {
   "cell_type": "code",
   "execution_count": null,
   "id": "5cebca10",
   "metadata": {},
   "outputs": [],
   "source": [
    "fig, ax = plt.subplots()\n",
    "rf.plotting.smith(ax=ax)\n",
    "\n",
    "import matplotlib.tri as tri\n",
    "\n",
    "x = rho_re\n",
    "y = rho_im\n",
    "\n",
    "# Pout\n",
    "z = np.real(ds.blocks[13]['Pout_dBm'].to_numpy())\n",
    "\n",
    "# Plot loadpull grid\n",
    "ax.plot(x, y, marker='.', color=\"grey\", markersize=1, linestyle='None', alpha=0.25)\n",
    "\n",
    "# Plot Pout contours\n",
    "z_min = np.floor(np.min(z))\n",
    "z_max = np.round(np.max(z))\n",
    "levels = np.linspace(z_min, z_max, int((z_max-z_min)/0.5)+1)\n",
    "print(levels)\n",
    "max_index = np.argmax(z)\n",
    "\n",
    "contour1=ax.tricontour(x, y, z, levels=levels, linewidths=0.5, cmap=\"Blues\")\n",
    "#contour = ax.tricontourf(x, y, z, levels=10, cmap=\"RdBu_r\")\n",
    "ax.plot(x[max_index], y[max_index], 'bo', markersize=1)\n",
    "\n",
    "#ax.clabel(contour, inline=True, fontsize=5)\n",
    "#fig.colorbar(contour, ax=ax)\n",
    "\n",
    "# Plot PAE contours\n",
    "z2 = np.real(ds.blocks[4]['PAE'].to_numpy())\n",
    "z_min = np.floor(np.min(z2))\n",
    "z_max = np.round(np.max(z2))\n",
    "levels = np.linspace(z_min, z_max, int((z_max-z_min)/2.5+1))\n",
    "print(levels)\n",
    "\n",
    "contour2 = ax.tricontour(x, y, z2, levels=levels, linewidths=0.5, cmap=\"Reds\")\n",
    "\n",
    "# Plot maximum point\n",
    "max_index = np.argmax(z2)\n",
    "ax.plot(x[max_index], y[max_index], 'ro', markersize=1)\n",
    "\n",
    "#ax.clabel(contour, inline=True, fontsize=5)\n",
    "#fig.colorbar(contour, ax=ax)\n",
    "\n",
    "ax.axis(1*np.array([-1.1, 1.1, -1.1, 1.1]))"
   ]
  },
  {
   "cell_type": "code",
   "execution_count": null,
   "id": "3af33831",
   "metadata": {},
   "outputs": [],
   "source": [
    "for index, db in enumerate(ds.blocks):\n",
    "    print(f'{index}: {db.dvarnames}')"
   ]
  },
  {
   "cell_type": "code",
   "execution_count": null,
   "id": "780a9ebe",
   "metadata": {},
   "outputs": [],
   "source": [
    "y = ds.blocks[13]['Pout_dBm']\n",
    "x = ds.blocks[15]['Pin_dBm']\n",
    "\n",
    "fig, ax = plt.subplots()\n",
    "rf.plotting.plot_rectangular(x, y, ax=ax)"
   ]
  },
  {
   "cell_type": "code",
   "execution_count": null,
   "id": "395f2348",
   "metadata": {},
   "outputs": [],
   "source": [
    "s11 = ds.blocks[10]['S[1,1]'].to_numpy()\n",
    "\n",
    "rf.plotting.plot_complex_rectangular(s11)"
   ]
  },
  {
   "cell_type": "code",
   "execution_count": null,
   "id": "12bb4d97",
   "metadata": {},
   "outputs": [],
   "source": []
  }
 ],
 "metadata": {
  "kernelspec": {
   "display_name": "Python 3 (ipykernel)",
   "language": "python",
   "name": "python3"
  },
  "language_info": {
   "codemirror_mode": {
    "name": "ipython",
    "version": 3
   },
   "file_extension": ".py",
   "mimetype": "text/x-python",
   "name": "python",
   "nbconvert_exporter": "python",
   "pygments_lexer": "ipython3",
   "version": "3.9.12"
  }
 },
 "nbformat": 4,
 "nbformat_minor": 5
}
